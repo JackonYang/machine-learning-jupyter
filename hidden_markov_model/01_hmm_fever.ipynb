{
 "cells": [
  {
   "cell_type": "markdown",
   "metadata": {},
   "source": [
    "![Example of HMM Model -- Fever](../images/example_of_hmm_fever.png)\n",
    "\n",
    "refer to [wikipedia](https://en.wikipedia.org/wiki/Viterbi_algorithm#Example) for details"
   ]
  },
  {
   "cell_type": "code",
   "execution_count": 1,
   "metadata": {},
   "outputs": [],
   "source": [
    "import numpy as np"
   ]
  },
  {
   "cell_type": "code",
   "execution_count": 2,
   "metadata": {},
   "outputs": [],
   "source": [
    "# 状态集合 Q\n",
    "states = ('Healthy', 'Fever')\n",
    "# 观测集合 V\n",
    "observations = ('normal', 'cold', 'dizzy')\n",
    "# 初始状态概率向量 π\n",
    "start_probability = {'Healthy': 0.6, 'Fever': 0.4}\n",
    "# 状态转移矩阵 A\n",
    "transition_probability = {\n",
    "    'Healthy': {'Healthy': 0.7, 'Fever': 0.3},\n",
    "    'Fever': {'Healthy': 0.4, 'Fever': 0.6},\n",
    "}\n",
    "# 观测概率矩阵 B\n",
    "emission_probability = {\n",
    "    'Healthy': {'normal': 0.5, 'cold': 0.4, 'dizzy': 0.1},\n",
    "    'Fever': {'normal': 0.1, 'cold': 0.3, 'dizzy': 0.6},\n",
    "}"
   ]
  },
  {
   "cell_type": "code",
   "execution_count": 3,
   "metadata": {},
   "outputs": [],
   "source": [
    "def convert_map_to_vector(probs_map, col_label2id):\n",
    "    \"\"\"conver to 1d vector\"\"\"\n",
    "    v = np.zeros(len(col_label2id), dtype=float)\n",
    "    for col, value in probs_map.items():\n",
    "        v[col_label2id[col]] = value\n",
    "    return v\n",
    "\n",
    "\n",
    "def convert_map_to_matrix(probs_map, row_label2id, col_label2id):\n",
    "    \"\"\"convert to matrix\"\"\"\n",
    "    m = np.zeros((len(row_label2id), len(col_label2id)), dtype=float)\n",
    "    for row, cols in probs_map.items():\n",
    "        for col, value in cols.items():\n",
    "            m[row_label2id[row]][col_label2id[col]] = value\n",
    "    return m"
   ]
  },
  {
   "cell_type": "code",
   "execution_count": 4,
   "metadata": {},
   "outputs": [
    {
     "name": "stdout",
     "output_type": "stream",
     "text": [
      "{0: 'Healthy', 1: 'Fever'} {'Healthy': 0, 'Fever': 1}\n",
      "{0: 'normal', 1: 'cold', 2: 'dizzy'} {'normal': 0, 'cold': 1, 'dizzy': 2}\n"
     ]
    }
   ],
   "source": [
    "def generate_index_map(lables):\n",
    "    id2label = {}\n",
    "    label2id = {}\n",
    "    for idx, label in enumerate(lables):\n",
    "        id2label[idx] = label\n",
    "        label2id[label] = idx\n",
    "    return id2label, label2id\n",
    " \n",
    "states_id2label, states_label2id = generate_index_map(states)\n",
    "observations_id2label, observations_label2id = generate_index_map(observations)\n",
    "print(states_id2label, states_label2id)\n",
    "print(observations_id2label, observations_label2id)"
   ]
  },
  {
   "cell_type": "code",
   "execution_count": 5,
   "metadata": {},
   "outputs": [
    {
     "name": "stdout",
     "output_type": "stream",
     "text": [
      "状态转移矩阵 A:  [[0.7 0.3]\n",
      " [0.4 0.6]]\n",
      "观测概率矩阵 B:  [[0.5 0.4 0.1]\n",
      " [0.1 0.3 0.6]]\n",
      "初始状态概率向量 π:  [0.6 0.4]\n"
     ]
    }
   ],
   "source": [
    "A = convert_map_to_matrix(transition_probability, states_label2id, states_label2id)\n",
    "print('状态转移矩阵 A: ', A)\n",
    "B = convert_map_to_matrix(emission_probability, states_label2id, observations_label2id)\n",
    "print('观测概率矩阵 B: ', B)\n",
    "observations_index = [observations_label2id[o] for o in observations]\n",
    "pi = convert_map_to_vector(start_probability, states_label2id)\n",
    "print('初始状态概率向量 π: ', pi)"
   ]
  },
  {
   "cell_type": "code",
   "execution_count": 6,
   "metadata": {},
   "outputs": [],
   "source": [
    "# 随机生成观测序列和状态序列    \n",
    "def simulate(T):\n",
    "\n",
    "    def draw_from(probs):\n",
    "        \"\"\"\n",
    "        1.np.random.multinomial:\n",
    "        按照多项式分布，生成数据\n",
    "        >>> np.random.multinomial(20, [1/6.]*6, size=2)\n",
    "                array([[3, 4, 3, 3, 4, 3],\n",
    "                       [2, 4, 3, 4, 0, 7]])\n",
    "         For the first run, we threw 3 times 1, 4 times 2, etc.  \n",
    "         For the second, we threw 2 times 1, 4 times 2, etc.\n",
    "        2.np.where:\n",
    "        >>> x = np.arange(9.).reshape(3, 3)\n",
    "        >>> np.where( x > 5 )\n",
    "        (array([2, 2, 2]), array([0, 1, 2]))\n",
    "        \"\"\"\n",
    "        return np.where(np.random.multinomial(1, probs) == 1)[0][0]\n",
    "\n",
    "    observations = np.zeros(T, dtype=int)\n",
    "    states = np.zeros(T, dtype=int)\n",
    "    states[0] = draw_from(pi)  # pi is initial state prob distribution\n",
    "    observations[0] = draw_from(B[states[0],:])\n",
    "    for t in range(1, T):\n",
    "        states[t] = draw_from(A[states[t-1],:])\n",
    "        observations[t] = draw_from(B[states[t],:])\n",
    "    return observations, states"
   ]
  },
  {
   "cell_type": "code",
   "execution_count": 7,
   "metadata": {},
   "outputs": [
    {
     "name": "stdout",
     "output_type": "stream",
     "text": [
      "病人的状态:  ['Fever', 'Fever', 'Fever', 'Fever', 'Fever', 'Fever', 'Fever', 'Healthy', 'Fever', 'Healthy']\n",
      "病人的观测:  ['dizzy', 'cold', 'dizzy', 'dizzy', 'dizzy', 'normal', 'dizzy', 'normal', 'cold', 'dizzy']\n"
     ]
    }
   ],
   "source": [
    "observations_data, states_data = simulate(10)\n",
    "print(\"病人的状态: \", [states_id2label[index] for index in states_data])\n",
    "print(\"病人的观测: \", [observations_id2label[index] for index in observations_data])"
   ]
  },
  {
   "cell_type": "code",
   "execution_count": 8,
   "metadata": {},
   "outputs": [
    {
     "data": {
      "text/plain": [
       "(array([1, 0, 2, 1, 1, 1, 2, 2, 2, 2]), array([0, 0, 1, 1, 1, 1, 1, 0, 1, 1]))"
      ]
     },
     "execution_count": 8,
     "metadata": {},
     "output_type": "execute_result"
    }
   ],
   "source": [
    "simulate(10)"
   ]
  },
  {
   "cell_type": "code",
   "execution_count": null,
   "metadata": {},
   "outputs": [],
   "source": []
  }
 ],
 "metadata": {
  "kernelspec": {
   "display_name": "Python 3",
   "language": "python",
   "name": "python3"
  },
  "language_info": {
   "codemirror_mode": {
    "name": "ipython",
    "version": 3
   },
   "file_extension": ".py",
   "mimetype": "text/x-python",
   "name": "python",
   "nbconvert_exporter": "python",
   "pygments_lexer": "ipython3",
   "version": "3.7.0"
  }
 },
 "nbformat": 4,
 "nbformat_minor": 2
}
