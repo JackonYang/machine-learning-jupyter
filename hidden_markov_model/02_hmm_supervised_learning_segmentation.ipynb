{
 "cells": [
  {
   "cell_type": "code",
   "execution_count": 1,
   "metadata": {},
   "outputs": [],
   "source": [
    "import numpy as np"
   ]
  },
  {
   "cell_type": "code",
   "execution_count": 2,
   "metadata": {},
   "outputs": [],
   "source": [
    "states = ('B', 'M', 'E', 'S')"
   ]
  },
  {
   "cell_type": "code",
   "execution_count": 3,
   "metadata": {},
   "outputs": [],
   "source": [
    "def incr_vector_counter(counter, state):\n",
    "    if state not in counter:\n",
    "        counter[state] = 1\n",
    "    else:\n",
    "        counter[state] += 1\n",
    "\n",
    "def incr_matrix_counter(counter, start, end):\n",
    "    if start not in counter:\n",
    "        counter[start] = {end: 1}\n",
    "    elif end not in counter[start]:\n",
    "        counter[start][end] = 1\n",
    "    else:\n",
    "        counter[start][end] += 1"
   ]
  },
  {
   "cell_type": "code",
   "execution_count": 4,
   "metadata": {},
   "outputs": [],
   "source": [
    "def feed_train_line(line, pi_counter, trans_counter, emit_counter):\n",
    "    words = [i.strip() for i in line.split() if i.strip()]\n",
    "\n",
    "    if len(words) == 0:\n",
    "        return\n",
    "\n",
    "    line_states = []\n",
    "    for word in words:\n",
    "        cnt = len(word)\n",
    "        if cnt == 1:\n",
    "            line_states.append('S')\n",
    "        else:\n",
    "            line_states.append('B')\n",
    "            line_states.extend(['M'] * (cnt - 2))\n",
    "            line_states.append('E')\n",
    "#     print(line.strip())\n",
    "#     print(line_states)\n",
    "\n",
    "    # for start prob\n",
    "    incr_vector_counter(pi_counter, line_states[0])\n",
    "\n",
    "    # for transition prob\n",
    "    for start, end in zip(line_states[:-1], line_states[1:]):\n",
    "        incr_matrix_counter(trans_counter, start, end)\n",
    "\n",
    "    # for emission prob\n",
    "    for s, o in zip(line_states, ''.join(words)):\n",
    "        incr_matrix_counter(emit_counter, s, o)"
   ]
  },
  {
   "cell_type": "code",
   "execution_count": 5,
   "metadata": {},
   "outputs": [
    {
     "name": "stdout",
     "output_type": "stream",
     "text": [
      "start_counter:  {'B': 12091, 'S': 6963}\n",
      "transition_counter:  {'B': {'E': 499329, 'M': 85897}, 'E': {'B': 282224, 'S': 299226}, 'S': {'S': 218532, 'B': 290911}, 'M': {'M': 45378, 'E': 85897}}\n",
      "vocabulary cap:  4700\n"
     ]
    }
   ],
   "source": [
    "# processed = 0\n",
    "\n",
    "start_counter = {}\n",
    "transition_counter = {}\n",
    "emission_counter = {}\n",
    "vocabulary = set()\n",
    "\n",
    "# processed = 0\n",
    "with open('../data/pku_training.utf8') as f:\n",
    "    for line in f:\n",
    "        feed_train_line(line, start_counter, transition_counter, emission_counter)\n",
    "        vocabulary.update(line)\n",
    "#         processed += 1\n",
    "#         if processed > 10:\n",
    "#             break\n",
    "\n",
    "print('start_counter: ', start_counter)\n",
    "print('transition_counter: ', transition_counter)\n",
    "print('vocabulary cap: ', len(vocabulary))\n",
    "# print('emission_counter: ', emission_counter['S'])"
   ]
  },
  {
   "cell_type": "code",
   "execution_count": 6,
   "metadata": {},
   "outputs": [
    {
     "name": "stdout",
     "output_type": "stream",
     "text": [
      "{0: 'B', 1: 'M', 2: 'E', 3: 'S'} {'B': 0, 'M': 1, 'E': 2, 'S': 3}\n"
     ]
    }
   ],
   "source": [
    "def generate_index_map(lables):\n",
    "    id2label = {}\n",
    "    label2id = {}\n",
    "    for idx, label in enumerate(lables):\n",
    "        id2label[idx] = label\n",
    "        label2id[label] = idx\n",
    "    return id2label, label2id\n",
    " \n",
    "states_id2label, states_label2id = generate_index_map(states)\n",
    "vocabulary_id2label, vocabulary_label2id = generate_index_map(vocabulary)\n",
    "print(states_id2label, states_label2id)\n",
    "# print(vocabulary_id2label, vocabulary_label2id)"
   ]
  },
  {
   "cell_type": "code",
   "execution_count": 7,
   "metadata": {},
   "outputs": [
    {
     "name": "stdout",
     "output_type": "stream",
     "text": [
      "start_probability:  {'B': 0.6345649207515482, 'S': 0.36543507924845176}\n",
      "transition_probability:  {'B': {'E': 0.8532242244876338, 'M': 0.14677577551236617}, 'E': {'B': 0.48537965431249463, 'S': 0.5146203456875054}, 'S': {'S': 0.42896261210773334, 'B': 0.5710373878922667}, 'M': {'M': 0.3456713007046277, 'E': 0.6543286992953723}}\n"
     ]
    }
   ],
   "source": [
    "def convert_1d_counter_to_prob(counter_map):\n",
    "    total = sum(counter_map.values())\n",
    "    return {k: 1.0 * v / total for k, v in counter_map.items()}\n",
    "\n",
    "\n",
    "def convert_2d_counter_to_prob(counter_map):\n",
    "    return {k: convert_1d_counter_to_prob(v) for k, v in counter_map.items()}\n",
    "\n",
    "\n",
    "start_probability = convert_1d_counter_to_prob(start_counter)\n",
    "transition_probability = convert_2d_counter_to_prob(transition_counter)\n",
    "emission_probability = convert_2d_counter_to_prob(emission_counter)\n",
    "\n",
    "print('start_probability: ', start_probability)\n",
    "print('transition_probability: ', transition_probability)"
   ]
  },
  {
   "cell_type": "code",
   "execution_count": 8,
   "metadata": {},
   "outputs": [
    {
     "name": "stdout",
     "output_type": "stream",
     "text": [
      "{0: 'B', 1: 'M', 2: 'E', 3: 'S'}\n",
      "状态转移矩阵 A:  [[0.         0.14677578 0.85322422 0.        ]\n",
      " [0.         0.3456713  0.6543287  0.        ]\n",
      " [0.48537965 0.         0.         0.51462035]\n",
      " [0.57103739 0.         0.         0.42896261]]\n",
      "初始状态概率向量 π:  [0.63456492 0.         0.         0.36543508]\n",
      "观测概率矩阵 B:  [[1.60963457e-03 2.92194810e-04 2.05048990e-05 ... 3.41748316e-06\n",
      "  4.95535058e-05 2.05048990e-05]\n",
      " [1.63778328e-03 2.66615883e-04 5.33231765e-05 ... 0.00000000e+00\n",
      "  0.00000000e+00 0.00000000e+00]\n",
      " [1.19611911e-03 6.83496632e-05 6.83496632e-06 ... 0.00000000e+00\n",
      "  0.00000000e+00 0.00000000e+00]\n",
      " [1.73425497e-04 6.47963394e-05 7.62309875e-06 ... 1.90577469e-06\n",
      "  1.90577469e-06 1.90577469e-06]]\n"
     ]
    }
   ],
   "source": [
    "def convert_map_to_vector(probs_map, col_label2id):\n",
    "    \"\"\"conver to 1d vector\"\"\"\n",
    "    v = np.zeros(len(col_label2id), dtype=float)\n",
    "    for col, value in probs_map.items():\n",
    "        v[col_label2id[col]] = value\n",
    "    return v\n",
    "\n",
    "\n",
    "def convert_map_to_matrix(probs_map, row_label2id, col_label2id):\n",
    "    \"\"\"convert to matrix\"\"\"\n",
    "    m = np.zeros((len(row_label2id), len(col_label2id)), dtype=float)\n",
    "    for row, cols in probs_map.items():\n",
    "        for col, value in cols.items():\n",
    "            m[row_label2id[row]][col_label2id[col]] = value\n",
    "    return m\n",
    "\n",
    "print(states_id2label)\n",
    "A = convert_map_to_matrix(transition_probability, states_label2id, states_label2id)\n",
    "print('状态转移矩阵 A: ', A)\n",
    "pi = convert_map_to_vector(start_probability, states_label2id)\n",
    "print('初始状态概率向量 π: ', pi)\n",
    "B = convert_map_to_matrix(emission_probability, states_label2id, vocabulary_label2id)\n",
    "print('观测概率矩阵 B: ', B)"
   ]
  },
  {
   "cell_type": "code",
   "execution_count": 9,
   "metadata": {},
   "outputs": [],
   "source": [
    "import json\n",
    "with open('./hmm-zh-segmentation.json', 'w', encoding='utf8') as f:\n",
    "    json.dump({\n",
    "        'states': states,\n",
    "        'start_probability': start_probability,\n",
    "        'transition_probability': transition_probability,\n",
    "        'emission_probability': emission_probability,\n",
    "    }, f, indent=4)"
   ]
  },
  {
   "cell_type": "markdown",
   "metadata": {},
   "source": [
    "初始概率向量 pi\n",
    "转移矩阵 A\n",
    "观测概率矩阵 B\n",
    "状态 states\n",
    "\n",
    "均已知，给出 observations 即可用 Viterbi 算法计算最匹配 state 序列。"
   ]
  },
  {
   "cell_type": "code",
   "execution_count": 10,
   "metadata": {},
   "outputs": [
    {
     "name": "stdout",
     "output_type": "stream",
     "text": [
      "[1108, 2689, 505, 4547, 756, 1473, 3139]\n"
     ]
    }
   ],
   "source": [
    "observations = '小明是个好学生'\n",
    "observations_index = [vocabulary_label2id[o] for o in observations]\n",
    "print(observations_index)"
   ]
  },
  {
   "cell_type": "code",
   "execution_count": 11,
   "metadata": {},
   "outputs": [
    {
     "name": "stdout",
     "output_type": "stream",
     "text": [
      "初始概率 pi\n",
      "0.6346, 0.0000, 0.0000, 0.3654\n",
      "转移矩阵 A\n",
      "0.0000, 0.1468, 0.8532, 0.0000\n",
      "0.0000, 0.3457, 0.6543, 0.0000\n",
      "0.4854, 0.0000, 0.0000, 0.5146\n",
      "0.5710, 0.0000, 0.0000, 0.4290\n",
      "观测矩阵 B\n",
      "0.0027, 0.0015, 0.0003, 0.0008, 0.0006, 0.0031, 0.0048\n",
      "0.0034, 0.0012, 0.0002, 0.0006, 0.0005, 0.0051, 0.0029\n",
      "0.0003, 0.0028, 0.0022, 0.0052, 0.0020, 0.0030, 0.0038\n",
      "0.0011, 0.0001, 0.0191, 0.0050, 0.0024, 0.0003, 0.0001\n"
     ]
    }
   ],
   "source": [
    "B_partial = np.zeros([len(states), len(observations_index)], dtype=float)\n",
    "for i, o in enumerate(observations_index):\n",
    "    B_partial[:, i] = B[:, o]\n",
    "\n",
    "print('初始概率 pi')\n",
    "print(', '.join(map(lambda x: '%.4f' % x, pi)))\n",
    "print('转移矩阵 A')\n",
    "for row in A:\n",
    "    print(', '.join(map(lambda x: '%.4f' % x, row)))\n",
    "print('观测矩阵 B')\n",
    "for row in B_partial:\n",
    "    print(', '.join(map(lambda x: '%.4f' % x, row)))"
   ]
  },
  {
   "cell_type": "code",
   "execution_count": 12,
   "metadata": {},
   "outputs": [
    {
     "name": "stdout",
     "output_type": "stream",
     "text": [
      "[1070, 552, 2884, 1473]\n"
     ]
    }
   ],
   "source": [
    "observations = '清华大学'\n",
    "observations_index = [vocabulary_label2id[o] for o in observations]\n",
    "print(observations_index)"
   ]
  },
  {
   "cell_type": "code",
   "execution_count": 13,
   "metadata": {},
   "outputs": [
    {
     "name": "stdout",
     "output_type": "stream",
     "text": [
      "初始概率 pi\n",
      "0.6346, 0.0000, 0.0000, 0.3654\n",
      "转移矩阵 A\n",
      "0.0000, 0.1468, 0.8532, 0.0000\n",
      "0.0000, 0.3457, 0.6543, 0.0000\n",
      "0.4854, 0.0000, 0.0000, 0.5146\n",
      "0.5710, 0.0000, 0.0000, 0.4290\n",
      "观测矩阵 B\n",
      "0.0009, 0.0013, 0.0086, 0.0031\n",
      "0.0003, 0.0108, 0.0055, 0.0051\n",
      "0.0005, 0.0013, 0.0049, 0.0030\n",
      "0.0001, 0.0002, 0.0042, 0.0003\n"
     ]
    }
   ],
   "source": [
    "B_partial = np.zeros([len(states), len(observations_index)], dtype=float)\n",
    "for i, o in enumerate(observations_index):\n",
    "    B_partial[:, i] = B[:, o]\n",
    "\n",
    "print('初始概率 pi')\n",
    "print(', '.join(map(lambda x: '%.4f' % x, pi)))\n",
    "print('转移矩阵 A')\n",
    "for row in A:\n",
    "    print(', '.join(map(lambda x: '%.4f' % x, row)))\n",
    "print('观测矩阵 B')\n",
    "for row in B_partial:\n",
    "    print(', '.join(map(lambda x: '%.4f' % x, row)))"
   ]
  },
  {
   "cell_type": "code",
   "execution_count": null,
   "metadata": {},
   "outputs": [],
   "source": []
  }
 ],
 "metadata": {
  "kernelspec": {
   "display_name": "Python 3",
   "language": "python",
   "name": "python3"
  },
  "language_info": {
   "codemirror_mode": {
    "name": "ipython",
    "version": 3
   },
   "file_extension": ".py",
   "mimetype": "text/x-python",
   "name": "python",
   "nbconvert_exporter": "python",
   "pygments_lexer": "ipython3",
   "version": "3.7.0"
  }
 },
 "nbformat": 4,
 "nbformat_minor": 2
}
