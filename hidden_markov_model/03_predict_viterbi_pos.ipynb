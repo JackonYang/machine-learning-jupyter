{
 "cells": [
  {
   "cell_type": "code",
   "execution_count": 1,
   "metadata": {},
   "outputs": [],
   "source": [
    "import numpy as np"
   ]
  },
  {
   "cell_type": "code",
   "execution_count": 2,
   "metadata": {},
   "outputs": [
    {
     "name": "stdout",
     "output_type": "stream",
     "text": [
      "(7, 5)\n"
     ]
    }
   ],
   "source": [
    "states = ('NNP', 'MD', 'VB', 'JJ', 'NN', 'RB', 'DT')\n",
    "pi = (0.2767, 0.0006, 0.0031, 0.0453, 0.0449, 0.0510, 0.2026)\n",
    "A = np.array([\n",
    "    (0.3777, 0.0110, 0.0009, 0.0084, 0.0584, 0.0090, 0.0025),\n",
    "    (0.0008, 0.0002, 0.7968, 0.0005, 0.0008, 0.1698, 0.0041),\n",
    "    (0.0322, 0.0005, 0.0050, 0.0837, 0.0615, 0.0514, 0.2231),\n",
    "    (0.0366, 0.0004, 0.0001, 0.0733, 0.4509, 0.0036, 0.0036),\n",
    "    (0.0096, 0.0176, 0.0014, 0.0086, 0.1216, 0.0177, 0.0068),\n",
    "    (0.0068, 0.0102, 0.1011, 0.1012, 0.0120, 0.0728, 0.0479),\n",
    "    (0.1147, 0.0021, 0.0002, 0.2157, 0.4744, 0.0102, 0.0017),\n",
    "])\n",
    "B = np.array([\n",
    "    (0.000032, 0, 0, 0.000048, 0),\n",
    "    (0, 0.308431, 0, 0, 0),\n",
    "    (0, 0.000028, 0.000672, 0, 0.000028),\n",
    "    (0, 0, 0.000340, 0, 0),\n",
    "    (0, 0.000200, 0.000223, 0, 0.002337),\n",
    "    (0, 0, 0.010446, 0, 0),\n",
    "    (0, 0, 0, 0.010446, 0),\n",
    "])\n",
    "print(B.shape)"
   ]
  },
  {
   "cell_type": "code",
   "execution_count": 3,
   "metadata": {},
   "outputs": [],
   "source": [
    "def viterbi(observations, A, B, pi):\n",
    "    \"\"\"\n",
    "    -------\n",
    "    V : numpy.ndarray\n",
    "        V [s][t] = Maximum probability of an observation sequence ending\n",
    "                   at time 't' with final state 's'\n",
    "    prev : numpy.ndarray\n",
    "        Contains a pointer to the previous state at t-1 that maximizes\n",
    "        V[state][t]\n",
    "        \n",
    "    V对应δ，prev对应ψ\n",
    "    \"\"\"\n",
    "    N = A.shape[0]\n",
    "    T = len(observations)\n",
    "    prev = np.zeros((T - 1, N), dtype=int)\n",
    "\n",
    "    # DP matrix containing max likelihood of state at a given time\n",
    "    V = np.zeros((N, T))\n",
    "    V[:,0] = pi * B[:,obs_seq[0]]\n",
    "\n",
    "    for t in range(1, T):\n",
    "        for n in range(N):\n",
    "            seq_probs = V[:,t-1] * A[:,n] * B[n, observations[t]]\n",
    "            prev[t-1,n] = np.argmax(seq_probs)\n",
    "            V[n,t] = np.max(seq_probs)\n",
    "\n",
    "    reversed_path = []\n",
    "    state_ptr = np.argmax(V[:,-1])  # end state\n",
    "    reversed_path.append(state_ptr)\n",
    "    for ptrs in reversed(prev):\n",
    "        state_ptr = ptrs[state_ptr]\n",
    "        reversed_path.append(state_ptr)\n",
    "    path_idx = reversed(reversed_path)\n",
    "\n",
    "    return path_idx, [states[x] for x in path_idx]"
   ]
  },
  {
   "cell_type": "code",
   "execution_count": 4,
   "metadata": {},
   "outputs": [
    {
     "ename": "NameError",
     "evalue": "name 'state_path' is not defined",
     "output_type": "error",
     "traceback": [
      "\u001b[0;31m---------------------------------------------------------------------------\u001b[0m",
      "\u001b[0;31mNameError\u001b[0m                                 Traceback (most recent call last)",
      "\u001b[0;32m<ipython-input-4-4b473ba0e748>\u001b[0m in \u001b[0;36m<module>\u001b[0;34m\u001b[0m\n\u001b[1;32m      1\u001b[0m \u001b[0mobservations\u001b[0m \u001b[0;34m=\u001b[0m \u001b[0;34m'Janet/NNP will/MD back/VB the/DT bill/NN'\u001b[0m\u001b[0;34m.\u001b[0m\u001b[0msplit\u001b[0m\u001b[0;34m(\u001b[0m\u001b[0;34m)\u001b[0m\u001b[0;34m\u001b[0m\u001b[0m\n\u001b[1;32m      2\u001b[0m \u001b[0mobs_seq\u001b[0m \u001b[0;34m=\u001b[0m \u001b[0mrange\u001b[0m\u001b[0;34m(\u001b[0m\u001b[0mlen\u001b[0m\u001b[0;34m(\u001b[0m\u001b[0mobservations\u001b[0m\u001b[0;34m)\u001b[0m\u001b[0;34m)\u001b[0m\u001b[0;34m\u001b[0m\u001b[0m\n\u001b[0;32m----> 3\u001b[0;31m \u001b[0mx\u001b[0m\u001b[0;34m,\u001b[0m \u001b[0my\u001b[0m \u001b[0;34m=\u001b[0m \u001b[0mstate_path\u001b[0m\u001b[0;34m(\u001b[0m\u001b[0mobs_seq\u001b[0m\u001b[0;34m,\u001b[0m \u001b[0mA\u001b[0m\u001b[0;34m,\u001b[0m \u001b[0mB\u001b[0m\u001b[0;34m,\u001b[0m \u001b[0mpi\u001b[0m\u001b[0;34m)\u001b[0m\u001b[0;34m\u001b[0m\u001b[0m\n\u001b[0m\u001b[1;32m      4\u001b[0m \u001b[0mprint\u001b[0m\u001b[0;34m(\u001b[0m\u001b[0;34m', '\u001b[0m\u001b[0;34m.\u001b[0m\u001b[0mjoin\u001b[0m\u001b[0;34m(\u001b[0m\u001b[0my\u001b[0m\u001b[0;34m)\u001b[0m\u001b[0;34m)\u001b[0m\u001b[0;34m\u001b[0m\u001b[0m\n",
      "\u001b[0;31mNameError\u001b[0m: name 'state_path' is not defined"
     ]
    }
   ],
   "source": [
    "observations = 'Janet/NNP will/MD back/VB the/DT bill/NN'.split()\n",
    "obs_seq = range(len(observations))\n",
    "x, y = viterbi(obs_seq, A, B, pi)\n",
    "print(', '.join(y))"
   ]
  },
  {
   "cell_type": "code",
   "execution_count": null,
   "metadata": {},
   "outputs": [],
   "source": []
  }
 ],
 "metadata": {
  "kernelspec": {
   "display_name": "Python 3",
   "language": "python",
   "name": "python3"
  },
  "language_info": {
   "codemirror_mode": {
    "name": "ipython",
    "version": 3
   },
   "file_extension": ".py",
   "mimetype": "text/x-python",
   "name": "python",
   "nbconvert_exporter": "python",
   "pygments_lexer": "ipython3",
   "version": "3.7.0"
  }
 },
 "nbformat": 4,
 "nbformat_minor": 2
}
